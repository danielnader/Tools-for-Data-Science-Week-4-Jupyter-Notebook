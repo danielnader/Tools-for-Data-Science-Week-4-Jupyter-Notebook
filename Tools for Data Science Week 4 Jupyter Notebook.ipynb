{
 "cells": [
  {
   "cell_type": "markdown",
   "id": "5e430c71-651e-40d9-88f9-fcd2c46e56e5",
   "metadata": {},
   "source": [
    "# My Jupyter Notebook on IBM Watson Studio"
   ]
  },
  {
   "cell_type": "markdown",
   "id": "37f485b4-dfc9-4740-b802-5929e996a13f",
   "metadata": {},
   "source": [
    "## Daniel Nader\n",
    "### Civil Engineer"
   ]
  },
  {
   "cell_type": "markdown",
   "id": "0a372772-fa6c-4da4-8333-d39e7124c28d",
   "metadata": {},
   "source": [
    "_I am interested in data science since the day I first learned how to make analysis in Excel. Since that day, I always intended to learn as much as I can to break into thech and merge with civil engineering._"
   ]
  },
  {
   "cell_type": "markdown",
   "id": "7349e0d3-57c8-41a9-a72b-ab86d46ab061",
   "metadata": {},
   "source": [
    "### The following code prints 'Hello World'"
   ]
  },
  {
   "cell_type": "code",
   "execution_count": 1,
   "id": "99aeb49f-1b23-42e2-8f18-5a0502f6a8ca",
   "metadata": {},
   "outputs": [
    {
     "name": "stdout",
     "output_type": "stream",
     "text": [
      "Hello World\n"
     ]
    }
   ],
   "source": [
    "print('Hello World')"
   ]
  },
  {
   "cell_type": "markdown",
   "id": "f4e06952-5587-4eb0-b876-98a64eb8c14e",
   "metadata": {},
   "source": [
    "| ID Code | Name | City |\n",
    "| ------ | ------ | ------ |\n",
    "| 1 | Joe | São Paulo |"
   ]
  },
  {
   "cell_type": "code",
   "execution_count": null,
   "id": "1cfb9fb3-cdf3-40fd-bca9-c65dcd779104",
   "metadata": {},
   "outputs": [],
   "source": []
  }
 ],
 "metadata": {
  "kernelspec": {
   "display_name": "Python",
   "language": "python",
   "name": "conda-env-python-py"
  },
  "language_info": {
   "codemirror_mode": {
    "name": "ipython",
    "version": 3
   },
   "file_extension": ".py",
   "mimetype": "text/x-python",
   "name": "python",
   "nbconvert_exporter": "python",
   "pygments_lexer": "ipython3",
   "version": "3.7.12"
  }
 },
 "nbformat": 4,
 "nbformat_minor": 5
}
